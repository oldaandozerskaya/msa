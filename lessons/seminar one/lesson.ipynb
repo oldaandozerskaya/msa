{
 "cells": [
  {
   "cell_type": "markdown",
   "metadata": {},
   "source": [
    "## План занятия\n",
    "\n",
    "1. Системы контроля версий:\n",
    " 1. Что такое система контроля версий\n",
    " 2. Git - история появления (https://www.linuxjournal.com/content/git-origin-story)\n",
    " 3. Git - основные команды (https://learngitbranching.js.org/, https://git-scm.com/book/ru/v2)\n",
    " \n",
    "1. unit тестирование:\n",
    " 1. Виды тестирования\n",
    " 2. pytest - основные сценарии использования (Python Testing with pytest, https://habr.com/ru/post/448782/)\n",
    " 3. ml code testing (https://medium.com/@keeper6928/how-to-unit-test-machine-learning-code-57cf6fd81765)\n"
   ]
  },
  {
   "cell_type": "markdown",
   "metadata": {},
   "source": [
    "## Система контроля версий"
   ]
  },
  {
   "cell_type": "markdown",
   "metadata": {},
   "source": [
    "<font size=\"4\">**Что такое система контроля версий**</font>\n",
    "<br>\n",
    "<br>\n",
    "<font size=\"3\">\n",
    "    \n",
    "A component of software configuration management, version control, also known as revision control, source control, or source code management systems **are systems responsible for the management of changes to** ... and other collections of information.\n",
    "\n",
    "</font>"
   ]
  },
  {
   "cell_type": "markdown",
   "metadata": {},
   "source": [
    "<font size=\"4\">**История появления git**</font>\n",
    "<br>\n",
    "<br>\n",
    "<font size=\"3\">\n",
    "Появление git связано с разработкой linux. Изначально весь код ядра содержался на компьютере Linus'а, и все правки присылались на почту Linus'у, после чего он вносил их все вручную в основной код. Ключевое неудобство в такой разработке было, то что нельзя отслеживать историю изменения версий.\n",
    "</font>\n",
    "<br>\n",
    "<br>\n",
    "<font size=\"3\">\n",
    "К 2002 году было решено использовать проприетарный проект BitKeeper в качестве система контроля версий, лицензия предоставлялась бесплатно для с одним ограничением, что нельзя делать reverse-engenering кода система.\n",
    "</font>\n",
    "<br>\n",
    "<br>\n",
    "<font size=\"3\">\n",
    "В 2005 Andrew Tridgell все-таки нарушил ограничение использования, и лицензию отозвали. Тогда в июне 2005 работа над ядром linux полностью остановилась, а Linus начал писать свою систему конторля версий, через две недели прототип был готов, а через два месяца система стала полнофункциональной!\n",
    "</font>"
   ]
  },
  {
   "cell_type": "markdown",
   "metadata": {},
   "source": [
    "<font size=\"4\">**Основные команды**</font>\n",
    "![git preview](imgs/git.png)\n",
    "\n",
    "<a href='https://stackoverflow.com/a/3690796'>Img source</a> - почитайте тут если не поняли, что значит рисунок, но в конце будет ссылка лучше, пройдя по ней, Вы точно все поймете\n",
    "\n",
    "<br>\n",
    "<br>\n",
    "<font size=\"3\">\n",
    "Рассмотрим команды:\n",
    " \n",
    " - init - Create an empty Git repository or reinitialize an existing one\n",
    " - status - Show the working tree status\n",
    " - add - Add file contents to the index\n",
    " - commit - Record changes to the repository\n",
    " - log - Show commit logs\n",
    " - diff - Show changes between commits, commit and working tree, etc\n",
    "</font>"
   ]
  },
  {
   "cell_type": "code",
   "execution_count": 1,
   "metadata": {},
   "outputs": [],
   "source": [
    "!rm -r -f test_repos 2> /dev/null # удаляем ненужное"
   ]
  },
  {
   "cell_type": "markdown",
   "metadata": {},
   "source": [
    "<font size=\"3\">\n",
    "Создадим пустой репозиторий\n",
    "</font>"
   ]
  },
  {
   "cell_type": "code",
   "execution_count": 2,
   "metadata": {},
   "outputs": [
    {
     "name": "stdout",
     "output_type": "stream",
     "text": [
      "Initialized empty Git repository in /home/rost/Studying/Workshop/mca-workshop/lessons/seminar one/test_repos/.git/\r\n"
     ]
    }
   ],
   "source": [
    "!mkdir test_repos && cd test_repos && git init"
   ]
  },
  {
   "cell_type": "markdown",
   "metadata": {},
   "source": [
    "<font size=\"3\">\n",
    "Проверяем коммандой git status состояние репозитория\n",
    "</font>"
   ]
  },
  {
   "cell_type": "markdown",
   "metadata": {},
   "source": [
    "<img src=\"imgs/git-branch.png\" width=\"600px\" alt='git branch'>\n",
    "\n",
    "<font size=\"3\">\n",
    "Ветка представляет собой отдельное направление разработки.\n",
    "</font>"
   ]
  },
  {
   "cell_type": "code",
   "execution_count": 3,
   "metadata": {},
   "outputs": [
    {
     "name": "stdout",
     "output_type": "stream",
     "text": [
      "On branch master\r\n",
      "\r\n",
      "No commits yet\r\n",
      "\r\n",
      "nothing to commit (create/copy files and use \"git add\" to track)\r\n"
     ]
    }
   ],
   "source": [
    "!cd test_repos && git status"
   ]
  },
  {
   "cell_type": "markdown",
   "metadata": {},
   "source": [
    "<font size=\"3\">\n",
    "Создадим файл CONTROL.ME и запишем в него - text version one\n",
    "</font>"
   ]
  },
  {
   "cell_type": "code",
   "execution_count": 4,
   "metadata": {
    "scrolled": true
   },
   "outputs": [],
   "source": [
    "!cd test_repos && touch CONTROL.ME && git add CONTROL.ME"
   ]
  },
  {
   "cell_type": "markdown",
   "metadata": {},
   "source": [
    "<font size=\"3\">\n",
    "Проверим, что все действительно создалось и текст в файле\n",
    "</font>"
   ]
  },
  {
   "cell_type": "code",
   "execution_count": 5,
   "metadata": {},
   "outputs": [
    {
     "name": "stdout",
     "output_type": "stream",
     "text": [
      "text version one\r\n"
     ]
    }
   ],
   "source": [
    "!cd test_repos && echo 'text version one' > CONTROL.ME && cat CONTROL.ME"
   ]
  },
  {
   "cell_type": "code",
   "execution_count": 6,
   "metadata": {
    "scrolled": false
   },
   "outputs": [
    {
     "name": "stdout",
     "output_type": "stream",
     "text": [
      "On branch master\r\n",
      "\r\n",
      "No commits yet\r\n",
      "\r\n",
      "Changes to be committed:\r\n",
      "  (use \"git rm --cached <file>...\" to unstage)\r\n",
      "\r\n",
      "\t\u001b[32mnew file:   CONTROL.ME\u001b[m\r\n",
      "\r\n",
      "Changes not staged for commit:\r\n",
      "  (use \"git add <file>...\" to update what will be committed)\r\n",
      "  (use \"git checkout -- <file>...\" to discard changes in working directory)\r\n",
      "\r\n",
      "\t\u001b[31mmodified:   CONTROL.ME\u001b[m\r\n",
      "\r\n"
     ]
    }
   ],
   "source": [
    "!cd test_repos && git status"
   ]
  },
  {
   "cell_type": "code",
   "execution_count": 7,
   "metadata": {},
   "outputs": [
    {
     "name": "stdout",
     "output_type": "stream",
     "text": [
      "\u001b[1mdiff --git a/CONTROL.ME b/CONTROL.ME\u001b[m\r\n",
      "\u001b[1mindex e69de29..96cf69f 100644\u001b[m\r\n",
      "\u001b[1m--- a/CONTROL.ME\u001b[m\r\n",
      "\u001b[1m+++ b/CONTROL.ME\u001b[m\r\n",
      "\u001b[36m@@ -0,0 +1 @@\u001b[m\r\n",
      "\u001b[32m+\u001b[m\u001b[32mtext version one\u001b[m\r\n"
     ]
    }
   ],
   "source": [
    "!cd test_repos && git diff"
   ]
  },
  {
   "cell_type": "markdown",
   "metadata": {},
   "source": [
    "<font size=\"3\">\n",
    "Сохраним наше изменение в системе контроля версий\n",
    "</font>"
   ]
  },
  {
   "cell_type": "code",
   "execution_count": 8,
   "metadata": {},
   "outputs": [
    {
     "name": "stdout",
     "output_type": "stream",
     "text": [
      "[master (root-commit) aab1dff] create file CONTROL.ME, add text into it\r\n",
      " 1 file changed, 1 insertion(+)\r\n",
      " create mode 100644 CONTROL.ME\r\n"
     ]
    }
   ],
   "source": [
    "!cd test_repos && git add CONTROL.ME && git commit -m \"create file CONTROL.ME, add text into it\""
   ]
  },
  {
   "cell_type": "markdown",
   "metadata": {},
   "source": [
    "<font size=\"3\">\n",
    "Действительно наше изменение уже сохранено\n",
    "</font>"
   ]
  },
  {
   "cell_type": "code",
   "execution_count": 9,
   "metadata": {},
   "outputs": [
    {
     "name": "stdout",
     "output_type": "stream",
     "text": [
      "\u001b[33mcommit aab1dffed69efd16f2017f4236852fe057e597b6\u001b[m\u001b[33m (\u001b[m\u001b[1;36mHEAD -> \u001b[m\u001b[1;32mmaster\u001b[m\u001b[33m)\u001b[m\r\n",
      "Author: Epifanov Rostislav <rostepifanov@gmail.com>\r\n",
      "Date:   Wed Jul 29 13:38:12 2020 +0700\r\n",
      "\r\n",
      "    create file CONTROL.ME, add text into it\r\n"
     ]
    }
   ],
   "source": [
    "!cd test_repos && git log"
   ]
  },
  {
   "cell_type": "code",
   "execution_count": 10,
   "metadata": {},
   "outputs": [
    {
     "name": "stdout",
     "output_type": "stream",
     "text": [
      "On branch master\r\n",
      "nothing to commit, working tree clean\r\n"
     ]
    }
   ],
   "source": [
    "!cd test_repos && git status"
   ]
  },
  {
   "cell_type": "markdown",
   "metadata": {},
   "source": [
    "<font size=\"3\">\n",
    "Меняем наш файл\n",
    "</font>"
   ]
  },
  {
   "cell_type": "code",
   "execution_count": 11,
   "metadata": {},
   "outputs": [
    {
     "name": "stdout",
     "output_type": "stream",
     "text": [
      "text version two\r\n"
     ]
    }
   ],
   "source": [
    "!cd test_repos && echo 'text version two' > CONTROL.ME && cat CONTROL.ME"
   ]
  },
  {
   "cell_type": "code",
   "execution_count": 12,
   "metadata": {},
   "outputs": [
    {
     "name": "stdout",
     "output_type": "stream",
     "text": [
      "On branch master\r\n",
      "Changes not staged for commit:\r\n",
      "  (use \"git add <file>...\" to update what will be committed)\r\n",
      "  (use \"git checkout -- <file>...\" to discard changes in working directory)\r\n",
      "\r\n",
      "\t\u001b[31mmodified:   CONTROL.ME\u001b[m\r\n",
      "\r\n",
      "no changes added to commit (use \"git add\" and/or \"git commit -a\")\r\n"
     ]
    }
   ],
   "source": [
    "!cd test_repos && git status"
   ]
  },
  {
   "cell_type": "code",
   "execution_count": 13,
   "metadata": {},
   "outputs": [
    {
     "name": "stdout",
     "output_type": "stream",
     "text": [
      "\u001b[1mdiff --git a/CONTROL.ME b/CONTROL.ME\u001b[m\r\n",
      "\u001b[1mindex 96cf69f..3dce4ba 100644\u001b[m\r\n",
      "\u001b[1m--- a/CONTROL.ME\u001b[m\r\n",
      "\u001b[1m+++ b/CONTROL.ME\u001b[m\r\n",
      "\u001b[36m@@ -1 +1 @@\u001b[m\r\n",
      "\u001b[31m-text version one\u001b[m\r\n",
      "\u001b[32m+\u001b[m\u001b[32mtext version two\u001b[m\r\n"
     ]
    }
   ],
   "source": [
    "!cd test_repos && git diff CONTROL.ME"
   ]
  },
  {
   "cell_type": "markdown",
   "metadata": {},
   "source": [
    "<font size=\"3\">\n",
    "Снова сохраняем наши изменения в системе контроля версий\n",
    "</font>"
   ]
  },
  {
   "cell_type": "code",
   "execution_count": 14,
   "metadata": {},
   "outputs": [
    {
     "name": "stdout",
     "output_type": "stream",
     "text": [
      "[master 75bb67e] change the version of CONTROL.ME\r\n",
      " 1 file changed, 1 insertion(+), 1 deletion(-)\r\n"
     ]
    }
   ],
   "source": [
    "!cd test_repos && git add CONTROL.ME && git commit -m \"change the version of CONTROL.ME\""
   ]
  },
  {
   "cell_type": "code",
   "execution_count": 15,
   "metadata": {},
   "outputs": [
    {
     "name": "stdout",
     "output_type": "stream",
     "text": [
      "\u001b[33mcommit 75bb67e566de1e5b8953bb327a6369b37779b13e\u001b[m\u001b[33m (\u001b[m\u001b[1;36mHEAD -> \u001b[m\u001b[1;32mmaster\u001b[m\u001b[33m)\u001b[m\r\n",
      "Author: Epifanov Rostislav <rostepifanov@gmail.com>\r\n",
      "Date:   Wed Jul 29 13:38:13 2020 +0700\r\n",
      "\r\n",
      "    change the version of CONTROL.ME\r\n",
      "\r\n",
      "\u001b[33mcommit aab1dffed69efd16f2017f4236852fe057e597b6\u001b[m\r\n",
      "Author: Epifanov Rostislav <rostepifanov@gmail.com>\r\n",
      "Date:   Wed Jul 29 13:38:12 2020 +0700\r\n",
      "\r\n",
      "    create file CONTROL.ME, add text into it\r\n"
     ]
    }
   ],
   "source": [
    "!cd test_repos && git log"
   ]
  },
  {
   "cell_type": "markdown",
   "metadata": {},
   "source": [
    "<font size=\"3\">\n",
    "А теперь мы меняем код и что-то идет не так, как все вернуть как было?\n",
    "</font>"
   ]
  },
  {
   "cell_type": "code",
   "execution_count": 16,
   "metadata": {},
   "outputs": [
    {
     "name": "stdout",
     "output_type": "stream",
     "text": [
      "text version ??? error\r\n"
     ]
    }
   ],
   "source": [
    "!cd test_repos && echo 'text version ??? error' > CONTROL.ME && cat CONTROL.ME"
   ]
  },
  {
   "cell_type": "code",
   "execution_count": 17,
   "metadata": {},
   "outputs": [
    {
     "name": "stdout",
     "output_type": "stream",
     "text": [
      "\u001b[1mdiff --git a/CONTROL.ME b/CONTROL.ME\u001b[m\r\n",
      "\u001b[1mindex 3dce4ba..4aa8fb9 100644\u001b[m\r\n",
      "\u001b[1m--- a/CONTROL.ME\u001b[m\r\n",
      "\u001b[1m+++ b/CONTROL.ME\u001b[m\r\n",
      "\u001b[36m@@ -1 +1 @@\u001b[m\r\n",
      "\u001b[31m-text version two\u001b[m\r\n",
      "\u001b[32m+\u001b[m\u001b[32mtext version ??? error\u001b[m\r\n"
     ]
    }
   ],
   "source": [
    "!cd test_repos && git diff HEAD CONTROL.ME"
   ]
  },
  {
   "cell_type": "code",
   "execution_count": 18,
   "metadata": {},
   "outputs": [
    {
     "name": "stdout",
     "output_type": "stream",
     "text": [
      "text version two\r\n"
     ]
    }
   ],
   "source": [
    "!cd test_repos && git checkout CONTROL.ME && cat CONTROL.ME"
   ]
  },
  {
   "cell_type": "markdown",
   "metadata": {},
   "source": [
    "<font size=\"3\">\n",
    "А теперь мы меняем код и что-то идет не так, как все вернуть как было, НО уже добавили в индекс изменения?\n",
    "</font>"
   ]
  },
  {
   "cell_type": "code",
   "execution_count": 19,
   "metadata": {},
   "outputs": [
    {
     "name": "stdout",
     "output_type": "stream",
     "text": [
      "text version ??? error\r\n"
     ]
    }
   ],
   "source": [
    "!cd test_repos && echo 'text version ??? error' > CONTROL.ME && git add CONTROL.ME && cat CONTROL.ME"
   ]
  },
  {
   "cell_type": "code",
   "execution_count": 20,
   "metadata": {},
   "outputs": [
    {
     "name": "stdout",
     "output_type": "stream",
     "text": [
      "text version ??? error\r\n"
     ]
    }
   ],
   "source": [
    "!cd test_repos && git checkout CONTROL.ME && cat CONTROL.ME"
   ]
  },
  {
   "cell_type": "code",
   "execution_count": 21,
   "metadata": {},
   "outputs": [
    {
     "name": "stdout",
     "output_type": "stream",
     "text": [
      "Unstaged changes after reset:\r\n",
      "M\tCONTROL.ME\r\n",
      "text version two\r\n"
     ]
    }
   ],
   "source": [
    "!cd test_repos && git reset HEAD CONTROL.ME && git checkout CONTROL.ME && cat CONTROL.ME"
   ]
  },
  {
   "cell_type": "markdown",
   "metadata": {},
   "source": [
    "<font size=\"3\">\n",
    "<a href='https://learngitbranching.js.org/'>learngitbranching</a>  переходим все сюда после окончания семинара и проходим уровни тут все наглядно и все на русском!\n",
    "</font>"
   ]
  },
  {
   "cell_type": "markdown",
   "metadata": {},
   "source": [
    "### Подгрузка кода в репозиторий\n",
    "<BR>\n",
    "<font size=\"3\">\n",
    "\n",
    " - git clone https://gitlab.com/rostepifanov/mca-workshop.git\n",
    " - cd mca-workshop/code\n",
    " - git checkout -b r.ui.epifanov\n",
    " - git add loader_vk_epifanov.py\n",
    " - git commit -m \\\"add loader for vk\"\n",
    " - git push --set-upstream origin r.ui.epifanov\n",
    " \n",
    "loader_vk_epifanov.py - Ваш скрипт \n",
    "\n",
    "r.ui.epifanov - название Вашей ветки\n",
    " </font>"
   ]
  },
  {
   "cell_type": "markdown",
   "metadata": {},
   "source": [
    "## unit тестирование"
   ]
  },
  {
   "cell_type": "markdown",
   "metadata": {},
   "source": [
    "<font size=\"3\">\n",
    "\n",
    "**Среди фаз тестирования принято выделять:**\n",
    "\n",
    "- Модульное (unit) тестирование\n",
    "- Интегральное тестирование\n",
    "- Системное тестирование\n",
    "- Приемное тестирование\n",
    "\n",
    "Таким образом, модульное тестирование является первой фазой тестирования. Этот тип можно охарактеризовать, как низкое уровневое тестирование, сфокусированое на небольших участках кода. Такое тестирование пишется самими же программистами. Такие тесты проходят быстрее чем другие виды тестирования.\n",
    "\n",
    "**Интересный вопрос, что такое unit?**\n",
    "\n",
    "В объектно ориентированом подходе за unit принято принимать класс, в процедурном и функциональном программировании — отдельную функцию.\n",
    "</font>"
   ]
  },
  {
   "cell_type": "code",
   "execution_count": 22,
   "metadata": {},
   "outputs": [
    {
     "name": "stdout",
     "output_type": "stream",
     "text": [
      "code  tests\r\n"
     ]
    }
   ],
   "source": [
    "!ls pytest"
   ]
  },
  {
   "cell_type": "markdown",
   "metadata": {},
   "source": [
    "<font size=\"3\">\n",
    "\n",
    "**Простые assert'ы и проверка на поднятие исключения.**\n",
    "\n",
    "</font>"
   ]
  },
  {
   "cell_type": "code",
   "execution_count": 23,
   "metadata": {},
   "outputs": [
    {
     "name": "stdout",
     "output_type": "stream",
     "text": [
      "# Copyrights rostepifanov.ru\r\n",
      "#   Author: Rostislav Epifanov\r\n",
      "#   Created: 27/07/2020\r\n",
      "\r\n",
      "def incrementer(x):\r\n",
      "    return x+1\r\n",
      "\r\n",
      "def errorers():\r\n",
      "    raise SystemExit(1)"
     ]
    }
   ],
   "source": [
    "!cd pytest/code/ && cat example_simple.py"
   ]
  },
  {
   "cell_type": "code",
   "execution_count": 24,
   "metadata": {},
   "outputs": [
    {
     "name": "stdout",
     "output_type": "stream",
     "text": [
      "# Copyrights rostepifanov.ru\r\n",
      "#   Author: Rostislav Epifanov\r\n",
      "#   Created: 27/07/2020\r\n",
      "\r\n",
      "import pytest\r\n",
      "\r\n",
      "from code.example_simple import *\r\n",
      "\r\n",
      "def test_incrementer():\r\n",
      "    assert incrementer(3) == 5\r\n",
      "\r\n",
      "def test_errorers():\r\n",
      "    with pytest.raises(SystemExit):\r\n",
      "        errorers()"
     ]
    }
   ],
   "source": [
    "!cd pytest/tests/code && cat test_example_simple.py"
   ]
  },
  {
   "cell_type": "code",
   "execution_count": 25,
   "metadata": {
    "scrolled": false
   },
   "outputs": [
    {
     "name": "stdout",
     "output_type": "stream",
     "text": [
      "\u001b[31mF\u001b[0m\u001b[32m.\u001b[0m\u001b[36m                                                                       [100%]\u001b[0m\r\n",
      "=================================== FAILURES ===================================\r\n",
      "\u001b[31m\u001b[1m_______________________________ test_incrementer _______________________________\u001b[0m\r\n",
      "\r\n",
      "\u001b[1m    def test_incrementer():\u001b[0m\r\n",
      "\u001b[1m>       assert incrementer(3) == 5\u001b[0m\r\n",
      "\u001b[1m\u001b[31mE       assert 4 == 5\u001b[0m\r\n",
      "\u001b[1m\u001b[31mE         -4\u001b[0m\r\n",
      "\u001b[1m\u001b[31mE         +5\u001b[0m\r\n",
      "\r\n",
      "\u001b[1m\u001b[31mtests/code/test_example_simple.py\u001b[0m:10: AssertionError\r\n",
      "\u001b[31m\u001b[1m1 failed, 1 passed in 0.02 seconds\u001b[0m\r\n"
     ]
    }
   ],
   "source": [
    "!cd pytest/ && python3 -m pytest -q tests/code/test_example_simple.py"
   ]
  },
  {
   "cell_type": "markdown",
   "metadata": {},
   "source": [
    "<font size=\"3\">\n",
    "\n",
    "**Можно группировать логически тесты.**\n",
    "\n",
    "</font>"
   ]
  },
  {
   "cell_type": "code",
   "execution_count": 26,
   "metadata": {},
   "outputs": [
    {
     "name": "stdout",
     "output_type": "stream",
     "text": [
      "# Copyrights rostepifanov.ru\r\n",
      "#   Author: Rostislav Epifanov\r\n",
      "#   Created: 27/07/2020\r\n",
      "\r\n",
      "class FibonacciError(Exception):\r\n",
      "    pass\r\n",
      "\r\n",
      "class Fibonacci(object):\r\n",
      "    @staticmethod\r\n",
      "    def get(number):\r\n",
      "        if number < 0:\r\n",
      "            raise FibonacciError('Ooops number is negative')\r\n",
      "        elif number == 0:\r\n",
      "            return 0\r\n",
      "        elif number == 1:\r\n",
      "            return -1\r\n",
      "        else:\r\n",
      "            raise NotImplemented('Ooops implement me pls')\r\n"
     ]
    }
   ],
   "source": [
    "!cd pytest/code/ && cat fibonacci.py"
   ]
  },
  {
   "cell_type": "code",
   "execution_count": 27,
   "metadata": {},
   "outputs": [
    {
     "name": "stdout",
     "output_type": "stream",
     "text": [
      "# Copyrights rostepifanov.ru\r\n",
      "#   Author: Rostislav Epifanov\r\n",
      "#   Created: 27/07/2020\r\n",
      "\r\n",
      "import pytest\r\n",
      "\r\n",
      "from code.fibonacci import *\r\n",
      "\r\n",
      "class TestFibonacci(object):\r\n",
      "    def test_get_CASE_negative_number(self):\r\n",
      "        with pytest.raises(FibonacciError):\r\n",
      "            Fibonacci.get(-1)\r\n",
      "\r\n",
      "    def test_get_CASE_zero_number(self):\r\n",
      "        assert Fibonacci.get(0) == 0\r\n",
      "\r\n",
      "    def test_get_CASE_one_number(self):\r\n",
      "        assert Fibonacci.get(1) == 1\r\n"
     ]
    }
   ],
   "source": [
    "!cd pytest/tests/code && cat test_fibonacci.py"
   ]
  },
  {
   "cell_type": "code",
   "execution_count": 28,
   "metadata": {},
   "outputs": [
    {
     "name": "stdout",
     "output_type": "stream",
     "text": [
      "\u001b[32m.\u001b[0m\u001b[32m.\u001b[0m\u001b[31mF\u001b[0m\u001b[36m                                                                      [100%]\u001b[0m\n",
      "=================================== FAILURES ===================================\n",
      "\u001b[31m\u001b[1m____________________ TestFibonacci.test_get_CASE_one_number ____________________\u001b[0m\n",
      "\n",
      "self = <tests.code.test_fibonacci.TestFibonacci object at 0x7fb2690bc470>\n",
      "\n",
      "\u001b[1m    def test_get_CASE_one_number(self):\u001b[0m\n",
      "\u001b[1m>       assert Fibonacci.get(1) == 1\u001b[0m\n",
      "\u001b[1m\u001b[31mE       assert -1 == 1\u001b[0m\n",
      "\u001b[1m\u001b[31mE         --1\u001b[0m\n",
      "\u001b[1m\u001b[31mE         +1\u001b[0m\n",
      "\n",
      "\u001b[1m\u001b[31mtests/code/test_fibonacci.py\u001b[0m:18: AssertionError\n",
      "\u001b[31m\u001b[1m1 failed, 2 passed in 0.02 seconds\u001b[0m\n"
     ]
    }
   ],
   "source": [
    "!cd pytest/ && python3 -m pytest -q tests/code/test_fibonacci.py"
   ]
  },
  {
   "cell_type": "markdown",
   "metadata": {},
   "source": [
    "<font size=\"3\">\n",
    "\n",
    "Цель введения **fixture** это обеспечения необходимых предусловий для тестов, которое можно переиспользовать при запуске разных тестов.\n",
    "\n",
    "</font>"
   ]
  },
  {
   "cell_type": "markdown",
   "metadata": {},
   "source": [
    "<font size=\"3\">\n",
    "\n",
    "- **scope='function'** - выполняется один раз для каждой функции теста. Часть setup запускается перед каждым тестом с помощью fixture. Часть teardown запускается после каждого теста с использованием fixture. Это область используемая по умолчанию, если параметр scope не указан.\n",
    "\n",
    "\n",
    "- **scope='class'** - выполняется один раз для каждого тестового класса, независимо от количества тестовых методов в классе.\n",
    "\n",
    "\n",
    "- **scope='module'** - выполняется один раз для каждого модуля, независимо от того, сколько тестовых функций или методов или других фикстур при использовании модуля.\n",
    "\n",
    "\n",
    "- **scope='session'** - выполняется один раз за сеанс. Все методы и функции тестирования, использующие фикстуру области сеанса, используют один вызов setup и teardown.\n",
    "\n",
    "</font>"
   ]
  },
  {
   "cell_type": "code",
   "execution_count": 29,
   "metadata": {},
   "outputs": [
    {
     "name": "stdout",
     "output_type": "stream",
     "text": [
      "# Copyrights rostepifanov.ru\r\n",
      "#   Author: Rostislav Epifanov\r\n",
      "#   Created: 27/07/2020\r\n",
      "\r\n",
      "import pytest\r\n",
      "\r\n",
      "@pytest.fixture(scope='function', autouse = True)\r\n",
      "def function_setup():\r\n",
      "    print('function scope')\r\n",
      "\r\n",
      "@pytest.fixture(scope='module')\r\n",
      "def module_setup():\r\n",
      "    print('module scope')\r\n",
      "\r\n",
      "def test_one(function_setup, module_setup):\r\n",
      "    assert False\r\n",
      "\r\n",
      "def test_two():\r\n",
      "    assert False"
     ]
    }
   ],
   "source": [
    "!cd pytest/tests/code && cat test_fixtures_example.py"
   ]
  },
  {
   "cell_type": "code",
   "execution_count": 30,
   "metadata": {},
   "outputs": [
    {
     "name": "stdout",
     "output_type": "stream",
     "text": [
      "\u001b[31mF\u001b[0m\u001b[31mF\u001b[0m\u001b[36m                                                                       [100%]\u001b[0m\r\n",
      "=================================== FAILURES ===================================\r\n",
      "\u001b[31m\u001b[1m___________________________________ test_one ___________________________________\u001b[0m\r\n",
      "\r\n",
      "function_setup = None, module_setup = None\r\n",
      "\r\n",
      "\u001b[1m    def test_one(function_setup, module_setup):\u001b[0m\r\n",
      "\u001b[1m>       assert False\u001b[0m\r\n",
      "\u001b[1m\u001b[31mE       assert False\u001b[0m\r\n",
      "\r\n",
      "\u001b[1m\u001b[31mtests/code/test_fixtures_example.py\u001b[0m:16: AssertionError\r\n",
      "---------------------------- Captured stdout setup -----------------------------\r\n",
      "module scope\r\n",
      "function scope\r\n",
      "\u001b[31m\u001b[1m___________________________________ test_two ___________________________________\u001b[0m\r\n",
      "\r\n",
      "\u001b[1m    def test_two():\u001b[0m\r\n",
      "\u001b[1m>       assert False\u001b[0m\r\n",
      "\u001b[1m\u001b[31mE       assert False\u001b[0m\r\n",
      "\r\n",
      "\u001b[1m\u001b[31mtests/code/test_fixtures_example.py\u001b[0m:19: AssertionError\r\n",
      "---------------------------- Captured stdout setup -----------------------------\r\n",
      "function scope\r\n",
      "\u001b[31m\u001b[1m2 failed in 0.02 seconds\u001b[0m\r\n"
     ]
    }
   ],
   "source": [
    "!cd pytest/ && python3 -m pytest -q tests/code/test_fixtures_example.py"
   ]
  },
  {
   "cell_type": "markdown",
   "metadata": {},
   "source": [
    "<font size=\"3\">\n",
    "\n",
    "Маркеры вот это тема!\n",
    "\n",
    "</font>"
   ]
  },
  {
   "cell_type": "code",
   "execution_count": 31,
   "metadata": {},
   "outputs": [
    {
     "name": "stdout",
     "output_type": "stream",
     "text": [
      "# Copyrights rostepifanov.ru\r\n",
      "#   Author: Rostislav Epifanov\r\n",
      "#   Created: 27/07/2020\r\n",
      "\r\n",
      "import os\r\n",
      "import pytest\r\n",
      "\r\n",
      "def are_you_wanna_play_with_me():\r\n",
      "    return os.getenv('ANSWER', True)\r\n",
      "\r\n",
      "@pytest.mark.callmeboy\r\n",
      "def test_guilty_pleasure():\r\n",
      "    print('Oops you call guilty please test')\r\n",
      "    assert False\r\n",
      "\r\n",
      "@pytest.mark.questionable\r\n",
      "@pytest.mark.skipif(are_you_wanna_play_with_me(), reason='Nobody want play with me')\r\n",
      "def test_complicated():\r\n",
      "    print('Yeaahh catch some tricks')\r\n",
      "    assert False"
     ]
    }
   ],
   "source": [
    "!cd pytest/tests/code && cat test_markers_example.py"
   ]
  },
  {
   "cell_type": "code",
   "execution_count": 32,
   "metadata": {},
   "outputs": [
    {
     "name": "stdout",
     "output_type": "stream",
     "text": [
      "\u001b[31mF\u001b[0m\u001b[36m                                                                        [100%]\u001b[0m\r\n",
      "=================================== FAILURES ===================================\r\n",
      "\u001b[31m\u001b[1m_____________________________ test_guilty_pleasure _____________________________\u001b[0m\r\n",
      "\r\n",
      "\u001b[1m    @pytest.mark.callmeboy\u001b[0m\r\n",
      "\u001b[1m    def test_guilty_pleasure():\u001b[0m\r\n",
      "\u001b[1m        print('Oops you call guilty please test')\u001b[0m\r\n",
      "\u001b[1m>       assert False\u001b[0m\r\n",
      "\u001b[1m\u001b[31mE       assert False\u001b[0m\r\n",
      "\r\n",
      "\u001b[1m\u001b[31mtests/code/test_markers_example.py\u001b[0m:14: AssertionError\r\n",
      "----------------------------- Captured stdout call -----------------------------\r\n",
      "Oops you call guilty please test\r\n",
      "\u001b[31m\u001b[1m1 failed, 1 deselected in 0.02 seconds\u001b[0m\r\n"
     ]
    }
   ],
   "source": [
    "!cd pytest/ && python3 -m pytest -q tests/code/test_markers_example.py -m callmeboy"
   ]
  },
  {
   "cell_type": "code",
   "execution_count": 33,
   "metadata": {},
   "outputs": [
    {
     "name": "stdout",
     "output_type": "stream",
     "text": [
      "\u001b[1m============================= test session starts ==============================\u001b[0m\n",
      "platform linux -- Python 3.6.9, pytest-4.3.1, py-1.8.0, pluggy-0.9.0 -- /usr/bin/python3\n",
      "cachedir: .pytest_cache\n",
      "rootdir: /home/rost/Studying/Workshop/mca-workshop/lessons/seminar one/pytest, inifile:\n",
      "collected 2 items / 1 deselected / 1 selected                                  \u001b[0m\n",
      "\n",
      "tests/code/test_markers_example.py::test_complicated \u001b[33mSKIPPED\u001b[0m\u001b[36m             [100%]\u001b[0m\n",
      "\n",
      "\u001b[33m\u001b[1m=================== 1 skipped, 1 deselected in 0.01 seconds ====================\u001b[0m\n"
     ]
    }
   ],
   "source": [
    "!cd pytest/ && python3 -m pytest -v tests/code/test_markers_example.py -m questionable"
   ]
  },
  {
   "cell_type": "code",
   "execution_count": 34,
   "metadata": {},
   "outputs": [
    {
     "name": "stdout",
     "output_type": "stream",
     "text": [
      "\u001b[31mF\u001b[0m\u001b[36m                                                                        [100%]\u001b[0m\r\n",
      "=================================== FAILURES ===================================\r\n",
      "\u001b[31m\u001b[1m_______________________________ test_complicated _______________________________\u001b[0m\r\n",
      "\r\n",
      "\u001b[1m    @pytest.mark.questionable\u001b[0m\r\n",
      "\u001b[1m    @pytest.mark.skipif(are_you_wanna_play_with_me(), reason='Nobody want play with me')\u001b[0m\r\n",
      "\u001b[1m    def test_complicated():\u001b[0m\r\n",
      "\u001b[1m        print('Yeaahh catch some tricks')\u001b[0m\r\n",
      "\u001b[1m>       assert False\u001b[0m\r\n",
      "\u001b[1m\u001b[31mE       assert False\u001b[0m\r\n",
      "\r\n",
      "\u001b[1m\u001b[31mtests/code/test_markers_example.py\u001b[0m:20: AssertionError\r\n",
      "----------------------------- Captured stdout call -----------------------------\r\n",
      "Yeaahh catch some tricks\r\n",
      "\u001b[31m\u001b[1m1 failed, 1 deselected in 0.02 seconds\u001b[0m\r\n"
     ]
    }
   ],
   "source": [
    "!cd pytest/ && ANSWER=False python3 -m pytest -q tests/code/test_markers_example.py -m questionable"
   ]
  },
  {
   "cell_type": "markdown",
   "metadata": {},
   "source": [
    "## ml code testing"
   ]
  },
  {
   "cell_type": "code",
   "execution_count": 35,
   "metadata": {},
   "outputs": [],
   "source": [
    "import numpy as np\n",
    "\n",
    "import torch, torch.nn as nn\n",
    "import torch.nn.functional as F\n",
    "from torch.autograd import Variable"
   ]
  },
  {
   "cell_type": "code",
   "execution_count": 36,
   "metadata": {},
   "outputs": [],
   "source": [
    "def torch_float(data):\n",
    "    return Variable(torch.FloatTensor(data), requires_grad=True)"
   ]
  },
  {
   "cell_type": "code",
   "execution_count": 37,
   "metadata": {},
   "outputs": [],
   "source": [
    "def complex_loss(logits, target):\n",
    "    log_softmax_logits = F.log_softmax(logits, dim=1)\n",
    "\n",
    "    loss = logits * target\n",
    "    loss = loss.sum() / logits.shape[0]\n",
    "\n",
    "    return loss"
   ]
  },
  {
   "cell_type": "code",
   "execution_count": 38,
   "metadata": {},
   "outputs": [
    {
     "data": {
      "text/plain": [
       "tensor(15892.7812, grad_fn=<DivBackward0>)"
      ]
     },
     "execution_count": 38,
     "metadata": {},
     "output_type": "execute_result"
    }
   ],
   "source": [
    "NCLASSES = 10\n",
    "\n",
    "logits_size = (32, NCLASSES)\n",
    "logits = torch_float(np.random.randint(0, 255, size=logits_size))\n",
    "\n",
    "wrong_logits_size = (32, 1)\n",
    "wrong_logits = torch_float(np.random.randint(0, 255, size=wrong_logits_size))\n",
    "\n",
    "target_size = (32, 1)\n",
    "target = torch_float(np.random.randint(0, 255, size=target_size))\n",
    "\n",
    "complex_loss(logits, target)\n",
    "complex_loss(wrong_logits, target)"
   ]
  },
  {
   "cell_type": "code",
   "execution_count": 39,
   "metadata": {},
   "outputs": [],
   "source": [
    "def complex_loss_asserted(logits, target):\n",
    "    assert logits.shape[0] == target.shape[0]\n",
    "    assert logits.shape[1] == NCLASSES\n",
    "    \n",
    "    log_softmax_logits = F.log_softmax(logits, dim=1)\n",
    "\n",
    "    loss = logits * target\n",
    "    loss = loss.sum() / logits.shape[0]\n",
    "\n",
    "    return loss"
   ]
  },
  {
   "cell_type": "code",
   "execution_count": 40,
   "metadata": {},
   "outputs": [
    {
     "name": "stderr",
     "output_type": "stream",
     "text": [
      "Traceback (most recent call last):\n",
      "  File \"<ipython-input-40-a9b5ba56563a>\", line 4, in <module>\n",
      "    complex_loss_asserted(logits, target), complex_loss_asserted(wrong_logits, target)\n",
      "  File \"<ipython-input-39-54d488e557f0>\", line 3, in complex_loss_asserted\n",
      "    assert logits.shape[1] == NCLASSES\n",
      "AssertionError\n"
     ]
    }
   ],
   "source": [
    "import traceback\n",
    "\n",
    "try:\n",
    "    complex_loss_asserted(logits, target), complex_loss_asserted(wrong_logits, target)\n",
    "except Exception as e:\n",
    "    traceback.print_exc()"
   ]
  },
  {
   "cell_type": "markdown",
   "metadata": {},
   "source": [
    "<font size=\"3\">\n",
    "\n",
    "**Проверяйте размеры (шэйпы) !**\n",
    "\n",
    "</font>"
   ]
  },
  {
   "cell_type": "code",
   "execution_count": 41,
   "metadata": {},
   "outputs": [],
   "source": [
    "class Net(nn.Module):\n",
    "    def __init__(self):\n",
    "        super(Net, self).__init__()\n",
    "        \n",
    "        self.enc1conv1 = nn.Conv2d( in_channels=3,\n",
    "                                    out_channels=32,\n",
    "                                    kernel_size=(11, 11) )\n",
    "        \n",
    "        self.enc1conv2 = nn.Conv2d( in_channels=32,\n",
    "                                    out_channels=64,\n",
    "                                    kernel_size=(5, 5) )\n",
    "        \n",
    "        self.enc1maxpool1 = nn.MaxPool2d( kernel_size=4,\n",
    "                                          stride=4 )\n",
    "\n",
    "        self.enc2conv1 = nn.Conv2d( in_channels=64,\n",
    "                                    out_channels=64,\n",
    "                                    kernel_size=(5, 5) )\n",
    "        \n",
    "        self.enc2conv2 = nn.Conv2d( in_channels=64,\n",
    "                                    out_channels=64,\n",
    "                                    kernel_size=(3, 3) )\n",
    "        \n",
    "        self.enc2maxpool1 = nn.MaxPool2d( kernel_size=4,\n",
    "                                          stride=4 )\n",
    "        \n",
    "        self.enc3conv1 = nn.Conv2d( in_channels=64,\n",
    "                                    out_channels=128,\n",
    "                                    kernel_size=(3, 3) )\n",
    "        \n",
    "        self.enc3maxpool1 = nn.MaxPool2d( kernel_size=4,\n",
    "                                          stride=4 )\n",
    "        \n",
    "        self.enc4conv2 = nn.Conv2d( in_channels=64,\n",
    "                                    out_channels=128,\n",
    "                                    kernel_size=(3, 3) )\n",
    "\n",
    "    def forward(self, x):\n",
    "        enc1conv1 = self.enc1conv1(x)\n",
    "        enc1conv2 = self.enc1conv2(enc1conv1)\n",
    "        enc1maxpool1 = self.enc1maxpool1(enc1conv2)\n",
    "\n",
    "        enc2conv1 = self.enc2conv1(enc1maxpool1)\n",
    "        enc2conv2 = self.enc2conv2(enc2conv1)\n",
    "        enc2maxpool1 = self.enc2maxpool1(enc2conv2)\n",
    "\n",
    "#         enc3conv1 = self.enc2conv1(enc1maxpool1)\n",
    "        enc3conv1 = self.enc2conv1(enc2maxpool1)\n",
    "\n",
    "        enc3maxpool1 = self.enc2conv2(enc3conv1)\n",
    "\n",
    "        enc4conv2 = self.enc4conv2(enc3maxpool1)\n",
    "\n",
    "        return enc4conv2"
   ]
  },
  {
   "cell_type": "code",
   "execution_count": 42,
   "metadata": {},
   "outputs": [],
   "source": [
    "def compute_loss(maps, target_maps):\n",
    "    loss = maps * target_maps\n",
    "    loss = loss.sum(dim=(1, 2, 3))\n",
    "    return loss.mean()"
   ]
  },
  {
   "cell_type": "code",
   "execution_count": 43,
   "metadata": {
    "scrolled": true
   },
   "outputs": [],
   "source": [
    "input_size = (4, 3, 256, 256)\n",
    "target_size = (4, 128, 5, 5)\n",
    "\n",
    "x = torch_float(np.random.randint(0, 255, size=input_size))\n",
    "target = torch_float(np.random.randint(0, 255, size=target_size))\n",
    "\n",
    "\n",
    "net = Net()\n",
    "opt = torch.optim.Adam(net.parameters(), lr=0.01)\n",
    "\n",
    "net.train(True)\n",
    "\n",
    "weights = dict()\n",
    "\n",
    "for name, module in net._modules.items():\n",
    "    if 'weight' in dir(module):\n",
    "        weight = module.weight.detach().numpy()\n",
    "        weights[name] = weight\n",
    "\n",
    "for _ in range(5):\n",
    "    x = torch_float(np.random.randint(0, 255, size=input_size))\n",
    "    target = torch_float(np.random.randint(0, 255, size=target_size))\n",
    "\n",
    "    maps = net(x)\n",
    "    opt.zero_grad()\n",
    "    loss = compute_loss(maps, target)\n",
    "    loss.backward()\n",
    "    opt.step()\n",
    "\n",
    "# for name, module in net._modules.items():\n",
    "#     if 'weight' in dir(module):\n",
    "#         weight = module.weight.detach().numpy()\n",
    "#         assert not np.allclose(weights[name], weight)"
   ]
  },
  {
   "cell_type": "markdown",
   "metadata": {},
   "source": [
    "<font size=\"3\">\n",
    "\n",
    "**Проверяйте что веса слоев меняются в процессе оптимизации, если у Вас не тривиальные связи в сети**\n",
    "\n",
    "</font>"
   ]
  },
  {
   "cell_type": "code",
   "execution_count": 44,
   "metadata": {},
   "outputs": [],
   "source": [
    "def calc_precisions(pred_labels, true_labels, n=6):\n",
    "    assert pred_labels.shape == true_labels.shape\n",
    "    assert np.all((pred_labels < n) & (true_labels < n))\n",
    "    assert np.all((pred_labels >= 0) & (true_labels >= 0))\n",
    "    \n",
    "    precisions = np.zeros(n)\n",
    "\n",
    "    for idx in range(n):\n",
    "        numen = np.sum((pred_labels == idx)[true_labels == idx])\n",
    "        denom =  np.sum(pred_labels == idx) \n",
    "\n",
    "        if denom > 0:\n",
    "            precisions[idx] = numen / denom\n",
    "\n",
    "    return precisions"
   ]
  },
  {
   "cell_type": "code",
   "execution_count": 45,
   "metadata": {},
   "outputs": [],
   "source": [
    "def test_calc_precisions_two():\n",
    "    test_pred_labels = np.array([1, 1])\n",
    "    test_true_labels = np.array([0, 1])\n",
    "\n",
    "    precisions = calc_precisions(test_pred_labels, test_true_labels, n=2)\n",
    "    assert np.allclose(precisions, np.array([0., 0.5]))\n",
    "\n",
    "def test_calc_precisions_three():\n",
    "    test_pred_labels = np.array([1, 1, 2, 2, 0, 0])\n",
    "    test_true_labels = np.array([0, 2, 2, 2, 1, 0])\n",
    "\n",
    "    precisions = calc_precisions(test_pred_labels, test_true_labels, n=3)\n",
    "    assert np.allclose(precisions, np.array([0.5, 0., 1.]))\n",
    "    \n",
    "test_calc_precisions_two()\n",
    "test_calc_precisions_three()"
   ]
  },
  {
   "cell_type": "markdown",
   "metadata": {},
   "source": [
    "<font size=\"3\">\n",
    "\n",
    "**Если у Вас хитрая функция потерь или метрика, проверьте на краевых условиях, что она правильно считается**\n",
    "\n",
    "</font>"
   ]
  }
 ],
 "metadata": {
  "kernelspec": {
   "display_name": "Python 3",
   "language": "python",
   "name": "python3"
  },
  "language_info": {
   "codemirror_mode": {
    "name": "ipython",
    "version": 3
   },
   "file_extension": ".py",
   "mimetype": "text/x-python",
   "name": "python",
   "nbconvert_exporter": "python",
   "pygments_lexer": "ipython3",
   "version": "3.6.9"
  }
 },
 "nbformat": 4,
 "nbformat_minor": 2
}
